{
 "cells": [
  {
   "cell_type": "code",
   "execution_count": 1,
   "id": "2e41afab-e1c3-4d14-8a90-239aa20c7a6f",
   "metadata": {},
   "outputs": [],
   "source": [
    "import pandas as pd\n",
    "import numpy as np\n",
    "import os\n",
    "import time\n",
    "from tqdm import tqdm"
   ]
  },
  {
   "cell_type": "code",
   "execution_count": 2,
   "id": "b3589135-8fb8-4fe9-8232-7812a939e192",
   "metadata": {},
   "outputs": [],
   "source": [
    "column_names = ['ms','ankle_horiz_fw','ankle_vert', 'ankle_horiz_lat','thigh_horiz_fw','thigh_vert', 'thigh_horiz_lat','trunk_horiz_fw','trunk_vert', 'trunk_horiz_lat','annotation']\n",
    "datadir = 'dataset_fog_release/dataset'\n",
    "outputdir = 'sliding_window_dataset/'\n",
    "\n",
    "subject_files = {'s6':['S06R01.txt','S06R02.txt'],'s7':['S07R01.txt','S07R02.txt'],\n",
    "                 's8': ['S08R01.txt'],'s9': ['S09R01.txt'],'s10':['S10R01.txt']}\n",
    "subj_file = subject_files[\"s6\"][0]\n",
    "filename = f'{datadir}/{subj_file}'\n",
    "df = pd.read_csv(filename,sep=' ', names = column_names)"
   ]
  },
  {
   "cell_type": "code",
   "execution_count": 3,
   "id": "d3c184a8-73ca-47e3-8cc0-01ba7a7398a6",
   "metadata": {},
   "outputs": [],
   "source": [
    "def extract_experiment_windows(annotations):\n",
    "    \n",
    "    start = None\n",
    "    stop = None\n",
    "    windows = []\n",
    "    for i in range(len(annotations)):\n",
    "        if annotations[i] != 0 and not start:\n",
    "            start = i\n",
    "        if annotations[i] == 0 and start:\n",
    "            end = i - 1\n",
    "            windows.append((start,end))\n",
    "            start = None\n",
    "            end = None\n",
    "    return windows"
   ]
  },
  {
   "cell_type": "code",
   "execution_count": 4,
   "id": "22dd139f-b382-422d-afa8-2ce5f380e748",
   "metadata": {},
   "outputs": [
    {
     "name": "stderr",
     "output_type": "stream",
     "text": [
      "100%|██████████████████████████████████████████████████████████████████████████| 50200/50200 [00:47<00:00, 1063.97it/s]\n"
     ]
    },
    {
     "ename": "OSError",
     "evalue": "200800000 requested and 0 written",
     "output_type": "error",
     "traceback": [
      "\u001b[1;31m---------------------------------------------------------------------------\u001b[0m",
      "\u001b[1;31mOSError\u001b[0m                                   Traceback (most recent call last)",
      "\u001b[1;32m~\\AppData\\Local\\Temp\\ipykernel_14884\\3995767777.py\u001b[0m in \u001b[0;36m<module>\u001b[1;34m\u001b[0m\n\u001b[0;32m     23\u001b[0m     \u001b[0mend\u001b[0m \u001b[1;33m=\u001b[0m \u001b[0mtime\u001b[0m\u001b[1;33m.\u001b[0m\u001b[0mtime\u001b[0m\u001b[1;33m(\u001b[0m\u001b[1;33m)\u001b[0m\u001b[1;33m\u001b[0m\u001b[1;33m\u001b[0m\u001b[0m\n\u001b[0;32m     24\u001b[0m     \u001b[0mprint\u001b[0m\u001b[1;33m(\u001b[0m\u001b[0mend\u001b[0m\u001b[1;33m-\u001b[0m\u001b[0mstart\u001b[0m\u001b[1;33m)\u001b[0m\u001b[1;33m\u001b[0m\u001b[1;33m\u001b[0m\u001b[0m\n\u001b[1;32m---> 25\u001b[1;33m \u001b[0mcreate_and_save_sliding_windows\u001b[0m\u001b[1;33m(\u001b[0m\u001b[0mdf\u001b[0m\u001b[1;33m,\u001b[0m \u001b[0msubj_file\u001b[0m\u001b[1;33m,\u001b[0m \u001b[0moutputdir\u001b[0m \u001b[1;33m,\u001b[0m\u001b[0mcolumns\u001b[0m \u001b[1;33m=\u001b[0m \u001b[1;33m[\u001b[0m\u001b[1;34m'ankle_horiz_fw'\u001b[0m\u001b[1;33m,\u001b[0m\u001b[1;34m'ankle_vert'\u001b[0m\u001b[1;33m,\u001b[0m \u001b[1;34m'ankle_horiz_lat'\u001b[0m\u001b[1;33m,\u001b[0m\u001b[1;34m'annotation'\u001b[0m\u001b[1;33m]\u001b[0m\u001b[1;33m)\u001b[0m\u001b[1;33m\u001b[0m\u001b[1;33m\u001b[0m\u001b[0m\n\u001b[0m",
      "\u001b[1;32m~\\AppData\\Local\\Temp\\ipykernel_14884\\3995767777.py\u001b[0m in \u001b[0;36mcreate_and_save_sliding_windows\u001b[1;34m(subj_data_frame, filename, outputdir, window_size, columns)\u001b[0m\n\u001b[0;32m     18\u001b[0m             \u001b[0mlabel\u001b[0m \u001b[1;33m=\u001b[0m \u001b[0mexperiment\u001b[0m\u001b[1;33m[\u001b[0m\u001b[0mi\u001b[0m\u001b[1;33m+\u001b[0m\u001b[0mwindow_size\u001b[0m\u001b[1;33m]\u001b[0m\u001b[1;33m[\u001b[0m\u001b[1;36m3\u001b[0m\u001b[1;33m]\u001b[0m\u001b[1;33m\u001b[0m\u001b[1;33m\u001b[0m\u001b[0m\n\u001b[0;32m     19\u001b[0m             \u001b[0my\u001b[0m\u001b[1;33m.\u001b[0m\u001b[0mappend\u001b[0m\u001b[1;33m(\u001b[0m\u001b[1;36m0\u001b[0m \u001b[1;32mif\u001b[0m \u001b[0mlabel\u001b[0m \u001b[1;33m==\u001b[0m \u001b[1;36m1\u001b[0m \u001b[1;32melse\u001b[0m \u001b[1;36m1\u001b[0m\u001b[1;33m)\u001b[0m\u001b[1;33m\u001b[0m\u001b[1;33m\u001b[0m\u001b[0m\n\u001b[1;32m---> 20\u001b[1;33m         \u001b[0mnp\u001b[0m\u001b[1;33m.\u001b[0m\u001b[0msave\u001b[0m\u001b[1;33m(\u001b[0m\u001b[1;34mf'{outputdir}{filename[0:6]}experiment{n}_X.npy'\u001b[0m\u001b[1;33m,\u001b[0m\u001b[0mX\u001b[0m\u001b[1;33m)\u001b[0m\u001b[1;33m\u001b[0m\u001b[1;33m\u001b[0m\u001b[0m\n\u001b[0m\u001b[0;32m     21\u001b[0m         \u001b[0mnp\u001b[0m\u001b[1;33m.\u001b[0m\u001b[0msave\u001b[0m\u001b[1;33m(\u001b[0m\u001b[1;34mf'{outputdir}{filename[0:6]}experiment{n}_y.npy'\u001b[0m\u001b[1;33m,\u001b[0m\u001b[0my\u001b[0m\u001b[1;33m)\u001b[0m\u001b[1;33m\u001b[0m\u001b[1;33m\u001b[0m\u001b[0m\n\u001b[0;32m     22\u001b[0m \u001b[1;33m\u001b[0m\u001b[0m\n",
      "\u001b[1;32m~\\anaconda3folder\\lib\\site-packages\\numpy\\core\\overrides.py\u001b[0m in \u001b[0;36msave\u001b[1;34m(*args, **kwargs)\u001b[0m\n",
      "\u001b[1;32m~\\anaconda3folder\\lib\\site-packages\\numpy\\lib\\npyio.py\u001b[0m in \u001b[0;36msave\u001b[1;34m(file, arr, allow_pickle, fix_imports)\u001b[0m\n\u001b[0;32m    520\u001b[0m     \u001b[1;32mwith\u001b[0m \u001b[0mfile_ctx\u001b[0m \u001b[1;32mas\u001b[0m \u001b[0mfid\u001b[0m\u001b[1;33m:\u001b[0m\u001b[1;33m\u001b[0m\u001b[1;33m\u001b[0m\u001b[0m\n\u001b[0;32m    521\u001b[0m         \u001b[0marr\u001b[0m \u001b[1;33m=\u001b[0m \u001b[0mnp\u001b[0m\u001b[1;33m.\u001b[0m\u001b[0masanyarray\u001b[0m\u001b[1;33m(\u001b[0m\u001b[0marr\u001b[0m\u001b[1;33m)\u001b[0m\u001b[1;33m\u001b[0m\u001b[1;33m\u001b[0m\u001b[0m\n\u001b[1;32m--> 522\u001b[1;33m         format.write_array(fid, arr, allow_pickle=allow_pickle,\n\u001b[0m\u001b[0;32m    523\u001b[0m                            pickle_kwargs=dict(fix_imports=fix_imports))\n\u001b[0;32m    524\u001b[0m \u001b[1;33m\u001b[0m\u001b[0m\n",
      "\u001b[1;32m~\\anaconda3folder\\lib\\site-packages\\numpy\\lib\\format.py\u001b[0m in \u001b[0;36mwrite_array\u001b[1;34m(fp, array, version, allow_pickle, pickle_kwargs)\u001b[0m\n\u001b[0;32m    709\u001b[0m     \u001b[1;32melse\u001b[0m\u001b[1;33m:\u001b[0m\u001b[1;33m\u001b[0m\u001b[1;33m\u001b[0m\u001b[0m\n\u001b[0;32m    710\u001b[0m         \u001b[1;32mif\u001b[0m \u001b[0misfileobj\u001b[0m\u001b[1;33m(\u001b[0m\u001b[0mfp\u001b[0m\u001b[1;33m)\u001b[0m\u001b[1;33m:\u001b[0m\u001b[1;33m\u001b[0m\u001b[1;33m\u001b[0m\u001b[0m\n\u001b[1;32m--> 711\u001b[1;33m             \u001b[0marray\u001b[0m\u001b[1;33m.\u001b[0m\u001b[0mtofile\u001b[0m\u001b[1;33m(\u001b[0m\u001b[0mfp\u001b[0m\u001b[1;33m)\u001b[0m\u001b[1;33m\u001b[0m\u001b[1;33m\u001b[0m\u001b[0m\n\u001b[0m\u001b[0;32m    712\u001b[0m         \u001b[1;32melse\u001b[0m\u001b[1;33m:\u001b[0m\u001b[1;33m\u001b[0m\u001b[1;33m\u001b[0m\u001b[0m\n\u001b[0;32m    713\u001b[0m             for chunk in numpy.nditer(\n",
      "\u001b[1;31mOSError\u001b[0m: 200800000 requested and 0 written"
     ]
    }
   ],
   "source": [
    "def create_and_save_sliding_windows(subj_data_frame,filename, outputdir, window_size = 1000, columns=['ankle_vert','annotation']):\n",
    "    \n",
    "    experiment_intervals = extract_experiment_windows(subj_data_frame['annotation'])\n",
    "    df_as_np = subj_data_frame.to_numpy()\n",
    "\n",
    "    experiment_intervals = extract_experiment_windows(df['annotation'])\n",
    "    numpy_df = df[columns].to_numpy()\n",
    "    numpy_df_intervals = []\n",
    "    X = []\n",
    "    y = []\n",
    "    start = time.time()\n",
    "    for interval in experiment_intervals:\n",
    "        numpy_df_intervals.append(numpy_df[interval[0]:interval[1]])\n",
    "    for experiment,n in zip(numpy_df_intervals, range(len(numpy_df_intervals))):\n",
    "        for i in tqdm(range(len(experiment) - window_size)):\n",
    "            row = [a for a in experiment[i:i+window_size]]\n",
    "            X.append(row)\n",
    "            label = experiment[i+window_size][3]\n",
    "            y.append(0 if label == 1 else 1)\n",
    "        np.save(f'{outputdir}{filename[0:6]}experiment{n}_X.npy',X)\n",
    "        np.save(f'{outputdir}{filename[0:6]}experiment{n}_y.npy',y)\n",
    "\n",
    "    end = time.time()\n",
    "    print(end-start)\n",
    "create_and_save_sliding_windows(df, subj_file, outputdir ,columns = ['ankle_horiz_fw','ankle_vert', 'ankle_horiz_lat','annotation'])"
   ]
  },
  {
   "cell_type": "code",
   "execution_count": null,
   "id": "651e3a91-9adc-4c16-9537-bc27df57c703",
   "metadata": {},
   "outputs": [],
   "source": [
    "X = np.load('sliding_window_dataset/S01R01experiment0_X.npy')\n",
    "y = np.load('sliding_window_dataset/S01R01experiment0_y.npy')"
   ]
  },
  {
   "cell_type": "code",
   "execution_count": null,
   "id": "b6818422-f566-4464-8f86-38883baec052",
   "metadata": {},
   "outputs": [],
   "source": [
    "print(X.shape)\n",
    "print(y.shape)\n",
    "print(X[0])\n",
    "print(np.where(y==1)[0])\n",
    "\n"
   ]
  },
  {
   "cell_type": "code",
   "execution_count": null,
   "id": "aab44ee9-9159-4a60-8115-fe7612431cb8",
   "metadata": {},
   "outputs": [],
   "source": [
    "column_names = ['ms','ankle_horiz_fw','ankle_vert', 'ankle_horiz_lat','thigh_horiz_fw','thigh_vert', 'thigh_horiz_lat','trunk_horiz_fw','trunk_vert', 'trunk_horiz_lat','annotation']\n",
    "datadir = 'dataset_fog_release/dataset'\n",
    "outputdir = 'sliding_window_dataset/'\n",
    "\n",
    "subject_files = {'s10':['S10R01.txt']}\n",
    "for subj in subject_files.keys():\n",
    "    for fname in subject_files[subj]:\n",
    "        path_to_file = f'{datadir}/{fname}'\n",
    "        df = pd.read_csv(path_to_file,sep=' ', names = column_names)\n",
    "        create_and_save_sliding_windows(df, fname, outputdir ,columns = ['ankle_horiz_fw','ankle_vert', 'ankle_horiz_lat','annotation'])"
   ]
  },
  {
   "cell_type": "code",
   "execution_count": null,
   "id": "dc96827b",
   "metadata": {},
   "outputs": [],
   "source": []
  }
 ],
 "metadata": {
  "kernelspec": {
   "display_name": "Python 3 (ipykernel)",
   "language": "python",
   "name": "python3"
  },
  "language_info": {
   "codemirror_mode": {
    "name": "ipython",
    "version": 3
   },
   "file_extension": ".py",
   "mimetype": "text/x-python",
   "name": "python",
   "nbconvert_exporter": "python",
   "pygments_lexer": "ipython3",
   "version": "3.9.13"
  }
 },
 "nbformat": 4,
 "nbformat_minor": 5
}
